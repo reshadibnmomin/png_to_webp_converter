{
 "cells": [
  {
   "cell_type": "markdown",
   "id": "c1c2dc77-cf76-4922-a35d-c8050bba084d",
   "metadata": {
    "tags": []
   },
   "source": [
    "<h1>.png to .webp convertion</h1>"
   ]
  },
  {
   "cell_type": "code",
   "execution_count": 108,
   "id": "56937829-1248-4a3d-b29c-3b29dc8c91a2",
   "metadata": {
    "tags": []
   },
   "outputs": [],
   "source": [
    "#Source folder\n",
    "\n",
    "folder_path = \"C:/Users/USER/self/png to webp/static\""
   ]
  },
  {
   "cell_type": "code",
   "execution_count": 109,
   "id": "ed639f5a-89cd-4c96-8197-7c98b5617db6",
   "metadata": {
    "tags": []
   },
   "outputs": [],
   "source": [
    "#libraries\n",
    "import os\n",
    "from PIL import Image\n",
    "import matplotlib.pyplot as plt"
   ]
  },
  {
   "cell_type": "code",
   "execution_count": 110,
   "id": "a426a555-7549-4971-9bb4-1478dd73654d",
   "metadata": {
    "tags": []
   },
   "outputs": [],
   "source": [
    "#load images\n",
    "def load_images_from_folder(folder_path):\n",
    "    images = []\n",
    "    for filename in os.listdir(folder_path):\n",
    "        if filename.endswith(('.jpg', '.jpeg', '.png', '.bmp')): # Add more extensions if needed\n",
    "            image = Image.open(os.path.join(folder_path, filename))\n",
    "            images.append(image)\n",
    "    return images\n",
    "\n",
    "images = load_images_from_folder(folder_path)"
   ]
  },
  {
   "cell_type": "code",
   "execution_count": 111,
   "id": "a8bb134d-c0b3-4a86-9d4e-6015b932dc9f",
   "metadata": {
    "tags": []
   },
   "outputs": [],
   "source": [
    "#renaming\n",
    "def rename_and_save_images(folder_path, output_folder):\n",
    "    if not os.path.exists(output_folder):\n",
    "        os.makedirs(output_folder)  # Create the output folder if it doesn't exist\n",
    "\n",
    "    for filename in os.listdir(folder_path):\n",
    "        if filename.endswith(('.jpg', '.jpeg', '.png', '.bmp')):\n",
    "            input_path = os.path.join(folder_path, filename)\n",
    "            new_filename = filename.replace(\" \", \"-\")\n",
    "            output_path = os.path.join(output_folder, new_filename)\n",
    "            with Image.open(input_path) as img:\n",
    "                img.save(output_path)\n",
    "\n",
    "                output_folder = \"C:/Users/USER/self/png to webp/renamed\"\n",
    "rename_and_save_images(folder_path, output_folder)"
   ]
  },
  {
   "cell_type": "code",
   "execution_count": 112,
   "id": "5bd64d37-da2f-41bd-a69f-73c4a8afcc67",
   "metadata": {
    "tags": []
   },
   "outputs": [],
   "source": [
    "#convertion\n",
    "def convert_images_to_webp(folder_path_renamed, output_folder):\n",
    "    if not os.path.exists(output_folder):\n",
    "        os.makedirs(output_folder)  # Create the output folder if it doesn't exist\n",
    "\n",
    "    for filename in os.listdir(folder_path_renamed):\n",
    "        if filename.endswith(('.jpg', '.jpeg', '.png', '.bmp')):\n",
    "            input_path = os.path.join(folder_path_renamed, filename)\n",
    "            output_filename = os.path.splitext(filename)[0] + \".webp\"\n",
    "            output_path = os.path.join(output_folder, output_filename)\n",
    "            with Image.open(input_path) as img:\n",
    "                img.save(output_path, 'WEBP')\n",
    "\n",
    "folder_path = \"C:/Users/USER/self/png to webp/renamed\"\n",
    "output_folder = \"C:/Users/USER/self/png to webp/converted\""
   ]
  },
  {
   "cell_type": "code",
   "execution_count": 113,
   "id": "6846a226-706f-486a-aa7e-d8e54710a5aa",
   "metadata": {
    "tags": []
   },
   "outputs": [],
   "source": [
    "convert_images_to_webp(folder_path, output_folder)"
   ]
  },
  {
   "cell_type": "code",
   "execution_count": null,
   "id": "c7b68cc7-2e74-419d-9b7f-554eef4c2159",
   "metadata": {},
   "outputs": [],
   "source": []
  }
 ],
 "metadata": {
  "kernelspec": {
   "display_name": "Python 3 (ipykernel)",
   "language": "python",
   "name": "python3"
  },
  "language_info": {
   "codemirror_mode": {
    "name": "ipython",
    "version": 3
   },
   "file_extension": ".py",
   "mimetype": "text/x-python",
   "name": "python",
   "nbconvert_exporter": "python",
   "pygments_lexer": "ipython3",
   "version": "3.11.4"
  }
 },
 "nbformat": 4,
 "nbformat_minor": 5
}
